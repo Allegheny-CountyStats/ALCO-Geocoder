{
 "cells": [
  {
   "cell_type": "code",
   "execution_count": 3,
   "metadata": {},
   "outputs": [],
   "source": [
    "import requests\n",
    "import json\n",
    "import pandas as pd\n",
    "import re\n",
    "import numpy as np"
   ]
  },
  {
   "cell_type": "code",
   "execution_count": 92,
   "metadata": {},
   "outputs": [],
   "source": [
    "# Function to Geocode using the Allegheny County Geocoder\n",
    "def county_geocode (address):\n",
    "    # Base URL\n",
    "    url = \"http://gisdata.alleghenycounty.us/arcgis/rest/services/Geocoders/Composite/GeocodeServer/findAddressCandidates\"\n",
    "    \n",
    "    # Query string\n",
    "    query = {\"SingleLine\": address ,\"outSR\":\"4326\",\"f\":\"pjson\"}\n",
    "    # GET request\n",
    "    r = requests.request(\"GET\", url, params=query)\n",
    "    j = r.json()['candidates']\n",
    "    c = pd.DataFrame.from_dict(j)\n",
    "    \n",
    "    # If there are results grab X Y\n",
    "    if c.shape[0] > 0:\n",
    "        top = c.head(1)\n",
    "        locs = str(top['location'])\n",
    "        x = re.search(': (.+?),', locs).group(1)\n",
    "        y = re.search('\\'y\\': (.+?)}', locs).group(1)\n",
    "        df = pd.DataFrame({'X': [x], 'Y': [y]})\n",
    "    else:\n",
    "        df = pd.DataFrame({'X': [np.nan], 'Y': [np.nan]})\n",
    "        \n",
    "    return(df)"
   ]
  },
  {
   "cell_type": "code",
   "execution_count": 93,
   "metadata": {},
   "outputs": [],
   "source": [
    "def county_geo_pd (df, col = 'Address'):\n",
    "    final = pd.DataFrame({'X' : [], 'Y' : []})\n",
    "    \n",
    "    for index, row in test.iterrows():\n",
    "        temp = county_geocode(row['Address'])\n",
    "        final = final.append(temp)\n",
    "    \n",
    "    return(pd.concat([df, final.reset_index(drop=True)], axis = 1))"
   ]
  }
 ],
 "metadata": {
  "kernelspec": {
   "display_name": "Python 3",
   "language": "python",
   "name": "python3"
  },
  "language_info": {
   "codemirror_mode": {
    "name": "ipython",
    "version": 3
   },
   "file_extension": ".py",
   "mimetype": "text/x-python",
   "name": "python",
   "nbconvert_exporter": "python",
   "pygments_lexer": "ipython3",
   "version": "3.7.4"
  }
 },
 "nbformat": 4,
 "nbformat_minor": 4
}
