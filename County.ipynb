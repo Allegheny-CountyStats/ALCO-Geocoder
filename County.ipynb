{
 "cells": [
  {
   "cell_type": "code",
   "execution_count": 3,
   "metadata": {},
   "outputs": [],
   "source": [
    "import requests\n",
    "import json\n",
    "import pandas as pd\n",
    "import re\n",
    "import numpy as np"
   ]
  },
  {
   "cell_type": "code",
   "execution_count": 40,
   "metadata": {},
   "outputs": [],
   "source": [
    "test = pd.DataFrame({'Address': ['414 Grant Street, Pittsburgh PA', '2316 Patterson Street, Pittsbugh PA 15203']})\n",
    "\n",
    "address = '414 Grant Street, Pittsburgh PA'"
   ]
  },
  {
   "cell_type": "code",
   "execution_count": 61,
   "metadata": {},
   "outputs": [],
   "source": [
    "def county_geocode (address):\n",
    "    url = \"http://gisdata.alleghenycounty.us/arcgis/rest/services/Geocoders/Composite/GeocodeServer/findAddressCandidates\"\n",
    "\n",
    "    query = {\"SingleLine\": address ,\"outSR\":\"4326\",\"f\":\"pjson\"}\n",
    "    r = requests.request(\"GET\", url, params=query)\n",
    "    j = r.json()['candidates']\n",
    "    c = pd.DataFrame.from_dict(j)\n",
    "    \n",
    "    if c.shape[0] > 0:\n",
    "        top = c.head(1)\n",
    "        locs = str(top['location'])\n",
    "        x = re.search(': (.+?),', locs).group(1)\n",
    "        y = re.search('\\'y\\': (.+?)}', locs).group(1)\n",
    "        df = pd.DataFrame({'X': [x], 'Y': [y]})\n",
    "    else:\n",
    "        df = pd.DataFrame({'Address': [address], 'X': [np.nan], 'Y': [np.nan]})\n",
    "        \n",
    "    return(df)"
   ]
  },
  {
   "cell_type": "code",
   "execution_count": 90,
   "metadata": {},
   "outputs": [],
   "source": [
    "def county_geo_pd (df, col = 'Address'):\n",
    "    final = pd.DataFrame({'X' : [], 'Y' : []})\n",
    "    \n",
    "    for index, row in test.iterrows():\n",
    "        temp = county_geocode(row['Address'])\n",
    "        final = final.append(temp)\n",
    "    \n",
    "    return(pd.concat([df, final.reset_index(drop=True)], axis = 1))"
   ]
  },
  {
   "cell_type": "code",
   "execution_count": 91,
   "metadata": {},
   "outputs": [
    {
     "data": {
      "text/html": [
       "<div>\n",
       "<style scoped>\n",
       "    .dataframe tbody tr th:only-of-type {\n",
       "        vertical-align: middle;\n",
       "    }\n",
       "\n",
       "    .dataframe tbody tr th {\n",
       "        vertical-align: top;\n",
       "    }\n",
       "\n",
       "    .dataframe thead th {\n",
       "        text-align: right;\n",
       "    }\n",
       "</style>\n",
       "<table border=\"1\" class=\"dataframe\">\n",
       "  <thead>\n",
       "    <tr style=\"text-align: right;\">\n",
       "      <th></th>\n",
       "      <th>Address</th>\n",
       "      <th>X</th>\n",
       "      <th>Y</th>\n",
       "    </tr>\n",
       "  </thead>\n",
       "  <tbody>\n",
       "    <tr>\n",
       "      <td>0</td>\n",
       "      <td>414 Grant Street, Pittsburgh PA</td>\n",
       "      <td>-79.99685950610291</td>\n",
       "      <td>40.43811465835781</td>\n",
       "    </tr>\n",
       "    <tr>\n",
       "      <td>1</td>\n",
       "      <td>2316 Patterson Street, Pittsbugh PA 15203</td>\n",
       "      <td>-79.9733880847145</td>\n",
       "      <td>40.41927085425008</td>\n",
       "    </tr>\n",
       "  </tbody>\n",
       "</table>\n",
       "</div>"
      ],
      "text/plain": [
       "                                     Address                   X  \\\n",
       "0            414 Grant Street, Pittsburgh PA  -79.99685950610291   \n",
       "1  2316 Patterson Street, Pittsbugh PA 15203   -79.9733880847145   \n",
       "\n",
       "                   Y  \n",
       "0  40.43811465835781  \n",
       "1  40.41927085425008  "
      ]
     },
     "execution_count": 91,
     "metadata": {},
     "output_type": "execute_result"
    }
   ],
   "source": [
    "county_geo_pd(test)"
   ]
  },
  {
   "cell_type": "code",
   "execution_count": null,
   "metadata": {},
   "outputs": [],
   "source": []
  }
 ],
 "metadata": {
  "kernelspec": {
   "display_name": "Python 3",
   "language": "python",
   "name": "python3"
  },
  "language_info": {
   "codemirror_mode": {
    "name": "ipython",
    "version": 3
   },
   "file_extension": ".py",
   "mimetype": "text/x-python",
   "name": "python",
   "nbconvert_exporter": "python",
   "pygments_lexer": "ipython3",
   "version": "3.7.4"
  }
 },
 "nbformat": 4,
 "nbformat_minor": 4
}
